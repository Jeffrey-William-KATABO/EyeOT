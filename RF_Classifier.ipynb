{
  "nbformat": 4,
  "nbformat_minor": 0,
  "metadata": {
    "colab": {
      "provenance": []
    },
    "kernelspec": {
      "name": "python3",
      "display_name": "Python 3"
    },
    "language_info": {
      "name": "python"
    }
  },
  "cells": [
    {
      "cell_type": "code",
      "execution_count": null,
      "metadata": {
        "id": "3sCHUObnWUpG"
      },
      "outputs": [],
      "source": [
        "import pandas as pd\n",
        "import numpy as np\n",
        "from sklearn.model_selection import train_test_split"
      ]
    },
    {
      "cell_type": "markdown",
      "source": [
        "Loading the dataset:"
      ],
      "metadata": {
        "id": "nc5zgiJbYMc-"
      }
    },
    {
      "cell_type": "code",
      "source": [
        "df = pd.read_csv('drive/MyDrive/Datasets/Packet_Mode.csv', low_memory=False)\n",
        "df.drop(\"Unnamed: 0\", axis=1, inplace=True)\n",
        "df.drop(\"tcp.ack_raw\", axis=1, inplace=True)\n",
        "df.drop(\"udp.stream\", axis=1, inplace=True)\n",
        "\n",
        "print(df['Attack_type'].value_counts())"
      ],
      "metadata": {
        "colab": {
          "base_uri": "https://localhost:8080/"
        },
        "id": "9yjL7bC9YO1v",
        "outputId": "2645407d-5247-489f-ce55-cca6a61d2fab"
      },
      "execution_count": null,
      "outputs": [
        {
          "output_type": "stream",
          "name": "stdout",
          "text": [
            "6    1363998\n",
            "3     121567\n",
            "1      67939\n",
            "2      50062\n",
            "7      49933\n",
            "0      24026\n",
            "8      19977\n",
            "4        853\n",
            "5        358\n",
            "Name: Attack_type, dtype: int64\n"
          ]
        }
      ]
    },
    {
      "cell_type": "code",
      "source": [
        "df.columns"
      ],
      "metadata": {
        "colab": {
          "base_uri": "https://localhost:8080/"
        },
        "id": "092PKvGXWJUQ",
        "outputId": "2484aa80-558c-417e-8c02-afdfe82c4f63"
      },
      "execution_count": null,
      "outputs": [
        {
          "output_type": "execute_result",
          "data": {
            "text/plain": [
              "Index(['arp.opcode', 'arp.hw.size', 'icmp.checksum', 'icmp.seq_le', 'tcp.ack',\n",
              "       'tcp.checksum', 'tcp.connection.fin', 'tcp.connection.rst',\n",
              "       'tcp.connection.syn', 'tcp.connection.synack', 'tcp.flags',\n",
              "       'tcp.flags.ack', 'tcp.len', 'tcp.seq', 'udp.time_delta',\n",
              "       'mqtt.topic_len', 'Attack_type', 'mqtt.protoname-0',\n",
              "       'mqtt.protoname-MQTT'],\n",
              "      dtype='object')"
            ]
          },
          "metadata": {},
          "execution_count": 3
        }
      ]
    },
    {
      "cell_type": "code",
      "source": [
        "df.tail()"
      ],
      "metadata": {
        "colab": {
          "base_uri": "https://localhost:8080/",
          "height": 288
        },
        "id": "tymBm3-Xh-fS",
        "outputId": "6df9f6c2-2e1a-4bfc-ccc3-f896cff3c8d0"
      },
      "execution_count": null,
      "outputs": [
        {
          "output_type": "execute_result",
          "data": {
            "text/plain": [
              "         arp.opcode  arp.hw.size  icmp.checksum  icmp.seq_le   tcp.ack  \\\n",
              "1698708         0.0          0.0            0.0          0.0  190971.0   \n",
              "1698709         0.0          0.0            0.0          0.0      56.0   \n",
              "1698710         0.0          0.0            0.0          0.0      15.0   \n",
              "1698711         0.0          0.0            0.0          0.0       5.0   \n",
              "1698712         0.0          0.0            0.0          0.0       6.0   \n",
              "\n",
              "         tcp.checksum  tcp.connection.fin  tcp.connection.rst  \\\n",
              "1698708       24177.0                 0.0                 0.0   \n",
              "1698709       60612.0                 0.0                 0.0   \n",
              "1698710       43458.0                 0.0                 0.0   \n",
              "1698711       22126.0                 1.0                 0.0   \n",
              "1698712       36371.0                 0.0                 0.0   \n",
              "\n",
              "         tcp.connection.syn  tcp.connection.synack  tcp.flags  tcp.flags.ack  \\\n",
              "1698708                 0.0                    0.0       16.0            1.0   \n",
              "1698709                 0.0                    0.0       16.0            1.0   \n",
              "1698710                 0.0                    0.0       24.0            1.0   \n",
              "1698711                 0.0                    0.0       25.0            1.0   \n",
              "1698712                 0.0                    0.0       16.0            1.0   \n",
              "\n",
              "         tcp.len     tcp.seq  udp.time_delta  mqtt.topic_len  Attack_type  \\\n",
              "1698708   1440.0  48413877.0             0.0             0.0            6   \n",
              "1698709      0.0         5.0             0.0             0.0            6   \n",
              "1698710      4.0         1.0             0.0             0.0            6   \n",
              "1698711      2.0        56.0             0.0             0.0            6   \n",
              "1698712      0.0        59.0             0.0             0.0            6   \n",
              "\n",
              "         mqtt.protoname-0  mqtt.protoname-MQTT  \n",
              "1698708                 1                    0  \n",
              "1698709                 1                    0  \n",
              "1698710                 1                    0  \n",
              "1698711                 1                    0  \n",
              "1698712                 1                    0  "
            ],
            "text/html": [
              "\n",
              "  <div id=\"df-48bf2f3b-ef04-4469-81bb-438112c80a62\">\n",
              "    <div class=\"colab-df-container\">\n",
              "      <div>\n",
              "<style scoped>\n",
              "    .dataframe tbody tr th:only-of-type {\n",
              "        vertical-align: middle;\n",
              "    }\n",
              "\n",
              "    .dataframe tbody tr th {\n",
              "        vertical-align: top;\n",
              "    }\n",
              "\n",
              "    .dataframe thead th {\n",
              "        text-align: right;\n",
              "    }\n",
              "</style>\n",
              "<table border=\"1\" class=\"dataframe\">\n",
              "  <thead>\n",
              "    <tr style=\"text-align: right;\">\n",
              "      <th></th>\n",
              "      <th>arp.opcode</th>\n",
              "      <th>arp.hw.size</th>\n",
              "      <th>icmp.checksum</th>\n",
              "      <th>icmp.seq_le</th>\n",
              "      <th>tcp.ack</th>\n",
              "      <th>tcp.checksum</th>\n",
              "      <th>tcp.connection.fin</th>\n",
              "      <th>tcp.connection.rst</th>\n",
              "      <th>tcp.connection.syn</th>\n",
              "      <th>tcp.connection.synack</th>\n",
              "      <th>tcp.flags</th>\n",
              "      <th>tcp.flags.ack</th>\n",
              "      <th>tcp.len</th>\n",
              "      <th>tcp.seq</th>\n",
              "      <th>udp.time_delta</th>\n",
              "      <th>mqtt.topic_len</th>\n",
              "      <th>Attack_type</th>\n",
              "      <th>mqtt.protoname-0</th>\n",
              "      <th>mqtt.protoname-MQTT</th>\n",
              "    </tr>\n",
              "  </thead>\n",
              "  <tbody>\n",
              "    <tr>\n",
              "      <th>1698708</th>\n",
              "      <td>0.0</td>\n",
              "      <td>0.0</td>\n",
              "      <td>0.0</td>\n",
              "      <td>0.0</td>\n",
              "      <td>190971.0</td>\n",
              "      <td>24177.0</td>\n",
              "      <td>0.0</td>\n",
              "      <td>0.0</td>\n",
              "      <td>0.0</td>\n",
              "      <td>0.0</td>\n",
              "      <td>16.0</td>\n",
              "      <td>1.0</td>\n",
              "      <td>1440.0</td>\n",
              "      <td>48413877.0</td>\n",
              "      <td>0.0</td>\n",
              "      <td>0.0</td>\n",
              "      <td>6</td>\n",
              "      <td>1</td>\n",
              "      <td>0</td>\n",
              "    </tr>\n",
              "    <tr>\n",
              "      <th>1698709</th>\n",
              "      <td>0.0</td>\n",
              "      <td>0.0</td>\n",
              "      <td>0.0</td>\n",
              "      <td>0.0</td>\n",
              "      <td>56.0</td>\n",
              "      <td>60612.0</td>\n",
              "      <td>0.0</td>\n",
              "      <td>0.0</td>\n",
              "      <td>0.0</td>\n",
              "      <td>0.0</td>\n",
              "      <td>16.0</td>\n",
              "      <td>1.0</td>\n",
              "      <td>0.0</td>\n",
              "      <td>5.0</td>\n",
              "      <td>0.0</td>\n",
              "      <td>0.0</td>\n",
              "      <td>6</td>\n",
              "      <td>1</td>\n",
              "      <td>0</td>\n",
              "    </tr>\n",
              "    <tr>\n",
              "      <th>1698710</th>\n",
              "      <td>0.0</td>\n",
              "      <td>0.0</td>\n",
              "      <td>0.0</td>\n",
              "      <td>0.0</td>\n",
              "      <td>15.0</td>\n",
              "      <td>43458.0</td>\n",
              "      <td>0.0</td>\n",
              "      <td>0.0</td>\n",
              "      <td>0.0</td>\n",
              "      <td>0.0</td>\n",
              "      <td>24.0</td>\n",
              "      <td>1.0</td>\n",
              "      <td>4.0</td>\n",
              "      <td>1.0</td>\n",
              "      <td>0.0</td>\n",
              "      <td>0.0</td>\n",
              "      <td>6</td>\n",
              "      <td>1</td>\n",
              "      <td>0</td>\n",
              "    </tr>\n",
              "    <tr>\n",
              "      <th>1698711</th>\n",
              "      <td>0.0</td>\n",
              "      <td>0.0</td>\n",
              "      <td>0.0</td>\n",
              "      <td>0.0</td>\n",
              "      <td>5.0</td>\n",
              "      <td>22126.0</td>\n",
              "      <td>1.0</td>\n",
              "      <td>0.0</td>\n",
              "      <td>0.0</td>\n",
              "      <td>0.0</td>\n",
              "      <td>25.0</td>\n",
              "      <td>1.0</td>\n",
              "      <td>2.0</td>\n",
              "      <td>56.0</td>\n",
              "      <td>0.0</td>\n",
              "      <td>0.0</td>\n",
              "      <td>6</td>\n",
              "      <td>1</td>\n",
              "      <td>0</td>\n",
              "    </tr>\n",
              "    <tr>\n",
              "      <th>1698712</th>\n",
              "      <td>0.0</td>\n",
              "      <td>0.0</td>\n",
              "      <td>0.0</td>\n",
              "      <td>0.0</td>\n",
              "      <td>6.0</td>\n",
              "      <td>36371.0</td>\n",
              "      <td>0.0</td>\n",
              "      <td>0.0</td>\n",
              "      <td>0.0</td>\n",
              "      <td>0.0</td>\n",
              "      <td>16.0</td>\n",
              "      <td>1.0</td>\n",
              "      <td>0.0</td>\n",
              "      <td>59.0</td>\n",
              "      <td>0.0</td>\n",
              "      <td>0.0</td>\n",
              "      <td>6</td>\n",
              "      <td>1</td>\n",
              "      <td>0</td>\n",
              "    </tr>\n",
              "  </tbody>\n",
              "</table>\n",
              "</div>\n",
              "      <button class=\"colab-df-convert\" onclick=\"convertToInteractive('df-48bf2f3b-ef04-4469-81bb-438112c80a62')\"\n",
              "              title=\"Convert this dataframe to an interactive table.\"\n",
              "              style=\"display:none;\">\n",
              "        \n",
              "  <svg xmlns=\"http://www.w3.org/2000/svg\" height=\"24px\"viewBox=\"0 0 24 24\"\n",
              "       width=\"24px\">\n",
              "    <path d=\"M0 0h24v24H0V0z\" fill=\"none\"/>\n",
              "    <path d=\"M18.56 5.44l.94 2.06.94-2.06 2.06-.94-2.06-.94-.94-2.06-.94 2.06-2.06.94zm-11 1L8.5 8.5l.94-2.06 2.06-.94-2.06-.94L8.5 2.5l-.94 2.06-2.06.94zm10 10l.94 2.06.94-2.06 2.06-.94-2.06-.94-.94-2.06-.94 2.06-2.06.94z\"/><path d=\"M17.41 7.96l-1.37-1.37c-.4-.4-.92-.59-1.43-.59-.52 0-1.04.2-1.43.59L10.3 9.45l-7.72 7.72c-.78.78-.78 2.05 0 2.83L4 21.41c.39.39.9.59 1.41.59.51 0 1.02-.2 1.41-.59l7.78-7.78 2.81-2.81c.8-.78.8-2.07 0-2.86zM5.41 20L4 18.59l7.72-7.72 1.47 1.35L5.41 20z\"/>\n",
              "  </svg>\n",
              "      </button>\n",
              "      \n",
              "  <style>\n",
              "    .colab-df-container {\n",
              "      display:flex;\n",
              "      flex-wrap:wrap;\n",
              "      gap: 12px;\n",
              "    }\n",
              "\n",
              "    .colab-df-convert {\n",
              "      background-color: #E8F0FE;\n",
              "      border: none;\n",
              "      border-radius: 50%;\n",
              "      cursor: pointer;\n",
              "      display: none;\n",
              "      fill: #1967D2;\n",
              "      height: 32px;\n",
              "      padding: 0 0 0 0;\n",
              "      width: 32px;\n",
              "    }\n",
              "\n",
              "    .colab-df-convert:hover {\n",
              "      background-color: #E2EBFA;\n",
              "      box-shadow: 0px 1px 2px rgba(60, 64, 67, 0.3), 0px 1px 3px 1px rgba(60, 64, 67, 0.15);\n",
              "      fill: #174EA6;\n",
              "    }\n",
              "\n",
              "    [theme=dark] .colab-df-convert {\n",
              "      background-color: #3B4455;\n",
              "      fill: #D2E3FC;\n",
              "    }\n",
              "\n",
              "    [theme=dark] .colab-df-convert:hover {\n",
              "      background-color: #434B5C;\n",
              "      box-shadow: 0px 1px 3px 1px rgba(0, 0, 0, 0.15);\n",
              "      filter: drop-shadow(0px 1px 2px rgba(0, 0, 0, 0.3));\n",
              "      fill: #FFFFFF;\n",
              "    }\n",
              "  </style>\n",
              "\n",
              "      <script>\n",
              "        const buttonEl =\n",
              "          document.querySelector('#df-48bf2f3b-ef04-4469-81bb-438112c80a62 button.colab-df-convert');\n",
              "        buttonEl.style.display =\n",
              "          google.colab.kernel.accessAllowed ? 'block' : 'none';\n",
              "\n",
              "        async function convertToInteractive(key) {\n",
              "          const element = document.querySelector('#df-48bf2f3b-ef04-4469-81bb-438112c80a62');\n",
              "          const dataTable =\n",
              "            await google.colab.kernel.invokeFunction('convertToInteractive',\n",
              "                                                     [key], {});\n",
              "          if (!dataTable) return;\n",
              "\n",
              "          const docLinkHtml = 'Like what you see? Visit the ' +\n",
              "            '<a target=\"_blank\" href=https://colab.research.google.com/notebooks/data_table.ipynb>data table notebook</a>'\n",
              "            + ' to learn more about interactive tables.';\n",
              "          element.innerHTML = '';\n",
              "          dataTable['output_type'] = 'display_data';\n",
              "          await google.colab.output.renderOutput(dataTable, element);\n",
              "          const docLink = document.createElement('div');\n",
              "          docLink.innerHTML = docLinkHtml;\n",
              "          element.appendChild(docLink);\n",
              "        }\n",
              "      </script>\n",
              "    </div>\n",
              "  </div>\n",
              "  "
            ]
          },
          "metadata": {},
          "execution_count": 5
        }
      ]
    },
    {
      "cell_type": "code",
      "source": [
        "df.shape"
      ],
      "metadata": {
        "colab": {
          "base_uri": "https://localhost:8080/"
        },
        "id": "PRQCkfGCi-py",
        "outputId": "044dadab-c91f-4bbe-9bd3-6216976254aa"
      },
      "execution_count": null,
      "outputs": [
        {
          "output_type": "execute_result",
          "data": {
            "text/plain": [
              "(1698713, 19)"
            ]
          },
          "metadata": {},
          "execution_count": 6
        }
      ]
    },
    {
      "cell_type": "markdown",
      "source": [
        "Splitting the dataset into training and test sets:"
      ],
      "metadata": {
        "id": "sK1F7VfCZENT"
      }
    },
    {
      "cell_type": "code",
      "source": [
        "X = df.loc[:, df.columns != \"Attack_type\"]\n",
        "y = df[\"Attack_type\"]\n",
        "X_train, X_test, y_train, y_test = train_test_split(X,y, test_size=0.2)\n",
        "print('Shape of X:', X.shape)\n",
        "print('Shape of y:', y.shape)\n",
        "#print(X_train.shape)"
      ],
      "metadata": {
        "colab": {
          "base_uri": "https://localhost:8080/"
        },
        "id": "23SnT6JvZKbr",
        "outputId": "bafb412e-d7b0-4bc3-93b5-e741aaf71242"
      },
      "execution_count": null,
      "outputs": [
        {
          "output_type": "stream",
          "name": "stdout",
          "text": [
            "Shape of X: (1698713, 18)\n",
            "Shape of y: (1698713,)\n"
          ]
        }
      ]
    },
    {
      "cell_type": "markdown",
      "source": [
        "Implementing SMOTE on the training set:"
      ],
      "metadata": {
        "id": "cXKEPwIuZY2v"
      }
    },
    {
      "cell_type": "code",
      "source": [
        "from imblearn.over_sampling import SMOTE\n",
        "from collections import Counter\n",
        "\n",
        "smote = SMOTE(sampling_strategy=dict({5:10000, 6:10000}), random_state=10)\n",
        "X_train_res, y_train_res = smote.fit_resample(X_train, y_train)\n",
        "print(Counter(y_train_res))"
      ],
      "metadata": {
        "id": "UECShNHyZeCK",
        "colab": {
          "base_uri": "https://localhost:8080/"
        },
        "outputId": "f91aae66-3ea2-463b-801f-8b5b88b6adfc"
      },
      "execution_count": null,
      "outputs": [
        {
          "output_type": "stream",
          "name": "stdout",
          "text": [
            "Counter({7: 1091438, 4: 97415, 2: 54283, 11: 40719, 8: 40074, 3: 39935, 13: 39849, 1: 38708, 12: 29438, 0: 19095, 9: 15971, 14: 12087, 5: 10000, 6: 10000, 10: 7755})\n"
          ]
        }
      ]
    },
    {
      "cell_type": "markdown",
      "source": [
        "Building the model:"
      ],
      "metadata": {
        "id": "o5gg_xbwaAjp"
      }
    },
    {
      "cell_type": "code",
      "source": [
        "from sklearn.ensemble import RandomForestClassifier\n",
        "\n",
        "rf = RandomForestClassifier(max_depth=8, min_samples_split=10, random_state=5)"
      ],
      "metadata": {
        "id": "A3aOrtSdaEbf"
      },
      "execution_count": null,
      "outputs": []
    },
    {
      "cell_type": "markdown",
      "source": [
        "Training the model:"
      ],
      "metadata": {
        "id": "nboCbm7Oh60C"
      }
    },
    {
      "cell_type": "code",
      "source": [
        "import time\n",
        "from sklearn.ensemble import RandomForestClassifier\n",
        "\n",
        "rf = RandomForestClassifier(max_depth=8, min_samples_split=10, random_state=5)\n",
        "start_time = time.time()\n",
        "rf.fit(X_train.values, y_train.values)\n",
        "print(\"Training time in seconds: \", time.time()-start_time)"
      ],
      "metadata": {
        "colab": {
          "base_uri": "https://localhost:8080/"
        },
        "id": "My_bHGuAh9P4",
        "outputId": "45c547f9-d850-4339-a542-2fc70f0b13a1"
      },
      "execution_count": null,
      "outputs": [
        {
          "output_type": "stream",
          "name": "stdout",
          "text": [
            "Training time in seconds:  115.516028881073\n"
          ]
        }
      ]
    },
    {
      "cell_type": "markdown",
      "source": [
        "Evaluating the model:"
      ],
      "metadata": {
        "id": "c5SXZbjai0ij"
      }
    },
    {
      "cell_type": "code",
      "source": [
        "from sklearn.metrics import accuracy_score\n",
        "from sklearn.metrics import precision_score\n",
        "from sklearn.metrics import recall_score\n",
        "from sklearn.metrics import f1_score\n",
        "\n",
        "start_time = time.time()\n",
        "y_pred = rf.predict(X_test.values)\n",
        "print(\"Prediction time in seconds: \", time.time()-start_time)\n",
        "print('Accuracy: ', accuracy_score(y_test.values, y_pred))\n",
        "print('Precision :', precision_score(y_test.values, y_pred, average=\"macro\"))\n",
        "print('Recall: ', recall_score(y_test.values, y_pred, average=\"macro\"))\n",
        "print('F1: ', f1_score(y_test.values, y_pred, average=\"macro\"))\n"
      ],
      "metadata": {
        "colab": {
          "base_uri": "https://localhost:8080/"
        },
        "id": "y1yorsTji4ev",
        "outputId": "e777a005-9a2e-47f7-f2b2-ed4bd3049f94"
      },
      "execution_count": null,
      "outputs": [
        {
          "output_type": "stream",
          "name": "stdout",
          "text": [
            "Prediction time in seconds:  3.6042163372039795\n",
            "Accuracy:  0.9988020356563638\n",
            "Precision : 0.9923748460304908\n",
            "Recall:  0.9538226507604044\n",
            "F1:  0.9688820423473046\n"
          ]
        }
      ]
    },
    {
      "cell_type": "code",
      "source": [
        "from sklearn.metrics import confusion_matrix\n",
        "from sklearn.metrics import classification_report\n",
        "\n",
        "print(classification_report(y_test, y_pred))\n",
        "# confusion_matrix(y_test, y_pred)"
      ],
      "metadata": {
        "colab": {
          "base_uri": "https://localhost:8080/"
        },
        "id": "3A3BwwCEj3yQ",
        "outputId": "5b7e1168-aba1-4eda-bf46-8153298dd653"
      },
      "execution_count": null,
      "outputs": [
        {
          "output_type": "stream",
          "name": "stdout",
          "text": [
            "              precision    recall  f1-score   support\n",
            "\n",
            "           0       1.00      0.93      0.96      4899\n",
            "           1       1.00      1.00      1.00     13555\n",
            "           2       1.00      1.00      1.00     10038\n",
            "           3       1.00      1.00      1.00     24366\n",
            "           4       1.00      0.65      0.79       171\n",
            "           5       1.00      1.00      1.00        64\n",
            "           6       1.00      1.00      1.00    272700\n",
            "           7       0.98      1.00      0.99      9953\n",
            "           8       0.95      1.00      0.97      3997\n",
            "\n",
            "    accuracy                           1.00    339743\n",
            "   macro avg       0.99      0.95      0.97    339743\n",
            "weighted avg       1.00      1.00      1.00    339743\n",
            "\n"
          ]
        }
      ]
    },
    {
      "cell_type": "markdown",
      "source": [
        "Confusion Matrix:"
      ],
      "metadata": {
        "id": "bykgTcOEoclb"
      }
    },
    {
      "cell_type": "code",
      "source": [
        "import matplotlib.pyplot as plt\n",
        "from sklearn.datasets import make_classification\n",
        "from sklearn.metrics import plot_confusion_matrix\n",
        "from sklearn.model_selection import train_test_split\n",
        "from sklearn.metrics import ConfusionMatrixDisplay\n",
        "from sklearn.svm import SVC\n",
        "\n",
        "titles_options = [\n",
        "    (\"\", \"true\"),\n",
        "]\n",
        "class_names=['0', '1', '2', '3', '4', '5', '6', '7', '8']\n",
        "for title, normalize in titles_options:\n",
        "    disp = ConfusionMatrixDisplay.from_estimator(\n",
        "        rf,\n",
        "        X_test,\n",
        "        y_test,\n",
        "        display_labels=class_names,\n",
        "        cmap=plt.cm.Blues,\n",
        "        normalize=normalize,\n",
        "    )\n",
        "    disp.ax_.set_title(title)\n",
        "\n",
        "    #print(title)\n",
        "    print(disp.confusion_matrix)\n",
        "plt.gcf().set_size_inches(9, 9)\n",
        "plt.show()"
      ],
      "metadata": {
        "colab": {
          "base_uri": "https://localhost:8080/",
          "height": 1000
        },
        "id": "jdxT7A1Cogtx",
        "outputId": "f3577b16-4271-43ef-fc1d-730dc1d0a63e"
      },
      "execution_count": null,
      "outputs": [
        {
          "output_type": "stream",
          "name": "stderr",
          "text": [
            "/usr/local/lib/python3.8/dist-packages/sklearn/base.py:443: UserWarning: X has feature names, but RandomForestClassifier was fitted without feature names\n",
            "  warnings.warn(\n"
          ]
        },
        {
          "output_type": "stream",
          "name": "stdout",
          "text": [
            "[[9.29781588e-01 0.00000000e+00 0.00000000e+00 0.00000000e+00\n",
            "  0.00000000e+00 0.00000000e+00 0.00000000e+00 3.67421923e-02\n",
            "  3.34762196e-02]\n",
            " [0.00000000e+00 9.99852453e-01 0.00000000e+00 7.37735153e-05\n",
            "  0.00000000e+00 0.00000000e+00 0.00000000e+00 0.00000000e+00\n",
            "  7.37735153e-05]\n",
            " [0.00000000e+00 0.00000000e+00 1.00000000e+00 0.00000000e+00\n",
            "  0.00000000e+00 0.00000000e+00 0.00000000e+00 0.00000000e+00\n",
            "  0.00000000e+00]\n",
            " [0.00000000e+00 0.00000000e+00 0.00000000e+00 1.00000000e+00\n",
            "  0.00000000e+00 0.00000000e+00 0.00000000e+00 0.00000000e+00\n",
            "  0.00000000e+00]\n",
            " [0.00000000e+00 0.00000000e+00 0.00000000e+00 0.00000000e+00\n",
            "  6.54970760e-01 0.00000000e+00 0.00000000e+00 1.22807018e-01\n",
            "  2.22222222e-01]\n",
            " [0.00000000e+00 0.00000000e+00 0.00000000e+00 0.00000000e+00\n",
            "  0.00000000e+00 1.00000000e+00 0.00000000e+00 0.00000000e+00\n",
            "  0.00000000e+00]\n",
            " [0.00000000e+00 0.00000000e+00 0.00000000e+00 0.00000000e+00\n",
            "  0.00000000e+00 0.00000000e+00 1.00000000e+00 0.00000000e+00\n",
            "  0.00000000e+00]\n",
            " [0.00000000e+00 0.00000000e+00 0.00000000e+00 0.00000000e+00\n",
            "  0.00000000e+00 0.00000000e+00 0.00000000e+00 9.99799056e-01\n",
            "  2.00944439e-04]\n",
            " [0.00000000e+00 0.00000000e+00 0.00000000e+00 0.00000000e+00\n",
            "  0.00000000e+00 0.00000000e+00 0.00000000e+00 0.00000000e+00\n",
            "  1.00000000e+00]]\n"
          ]
        },
        {
          "output_type": "display_data",
          "data": {
            "text/plain": [
              "<Figure size 648x648 with 2 Axes>"
            ],
            "image/png": "[encoded data removed]"
          },
          "metadata": {
            "needs_background": "light"
          }
        }
      ]
    },
    {
      "cell_type": "markdown",
      "source": [
        "Saving the model:"
      ],
      "metadata": {
        "id": "Us3BsQ_jLfNQ"
      }
    },
    {
      "cell_type": "code",
      "source": [
        "import pickle\n",
        "pickle.dump(rf, open('RF_Classifier3.sav', 'wb'))"
      ],
      "metadata": {
        "id": "2yM56vvjLd_G"
      },
      "execution_count": null,
      "outputs": []
    },
    {
      "cell_type": "code",
      "source": [
        "df.to_csv('Dataset_new2.csv', encoding='utf-8')\n"
      ],
      "metadata": {
        "colab": {
          "base_uri": "https://localhost:8080/"
        },
        "id": "fH4uU1EuQk9o",
        "outputId": "68ed6ec7-bfe2-4c94-8807-d7cb3e58ddee"
      },
      "execution_count": null,
      "outputs": [
        {
          "output_type": "stream",
          "name": "stdout",
          "text": [
            "cp: cannot stat 'Dataset_new2': No such file or directory\n"
          ]
        }
      ]
    },
    {
      "cell_type": "code",
      "source": [
        "! cp Dataset_new2.csv drive/MyDrive/Datasets/"
      ],
      "metadata": {
        "id": "Ef4P_havR9du"
      },
      "execution_count": null,
      "outputs": []
    }
  ]
}